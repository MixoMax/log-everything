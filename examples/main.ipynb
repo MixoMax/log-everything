{
 "cells": [
  {
   "cell_type": "code",
   "execution_count": 10,
   "metadata": {},
   "outputs": [],
   "source": [
    "from atlogger.atlogger import ATLogger, ATLoggerWS, Trace"
   ]
  },
  {
   "cell_type": "code",
   "execution_count": 17,
   "metadata": {},
   "outputs": [],
   "source": [
    "logger = ATLogger(\"http://127.0.0.1:8000\", \"c5e185ac-e24f-4f73-824d-16c8c64550f2\")\n"
   ]
  },
  {
   "cell_type": "code",
   "execution_count": 19,
   "metadata": {},
   "outputs": [
    {
     "data": {
      "text/plain": [
       "{'status': 'success'}"
      ]
     },
     "execution_count": 19,
     "metadata": {},
     "output_type": "execute_result"
    }
   ],
   "source": [
    "trace = logger.new_trace(\"test\", {\"key\": \"value\"})\n",
    "trace.add_event(\"test_event\", {\"key\": \"value\"})\n",
    "trace.add_event(\"test_event\", {\"key\": \"value\"})\n",
    "\n",
    "trace_2 = logger.new_trace(\"logger.submit_trace\")\n",
    "logger.submit_trace(trace)\n",
    "trace_2.add_event(\"Done\")\n",
    "logger.submit_trace(trace_2)\n"
   ]
  }
 ],
 "metadata": {
  "kernelspec": {
   "display_name": "base",
   "language": "python",
   "name": "python3"
  },
  "language_info": {
   "codemirror_mode": {
    "name": "ipython",
    "version": 3
   },
   "file_extension": ".py",
   "mimetype": "text/x-python",
   "name": "python",
   "nbconvert_exporter": "python",
   "pygments_lexer": "ipython3",
   "version": "3.12.3"
  }
 },
 "nbformat": 4,
 "nbformat_minor": 2
}
